{
 "cells": [
  {
   "cell_type": "markdown",
   "metadata": {},
   "source": [
    "# ML Pipeline Preparation\n",
    "Follow the instructions below to help you create your ML pipeline.\n",
    "### 1. Import libraries and load data from database.\n",
    "- Import Python libraries\n",
    "- Load dataset from database with [`read_sql_table`](https://pandas.pydata.org/pandas-docs/stable/generated/pandas.read_sql_table.html)\n",
    "- Define feature and target variables X and Y"
   ]
  },
  {
   "cell_type": "code",
   "execution_count": 1,
   "metadata": {},
   "outputs": [
    {
     "name": "stdout",
     "output_type": "stream",
     "text": [
      "[nltk_data] Downloading package punkt to /root/nltk_data...\n",
      "[nltk_data]   Unzipping tokenizers/punkt.zip.\n",
      "[nltk_data] Downloading package wordnet to /root/nltk_data...\n",
      "[nltk_data]   Unzipping corpora/wordnet.zip.\n",
      "[nltk_data] Downloading package stopwords to /root/nltk_data...\n",
      "[nltk_data]   Unzipping corpora/stopwords.zip.\n"
     ]
    }
   ],
   "source": [
    "# import libraries\n",
    "import pandas as pd\n",
    "import numpy as np\n",
    "from sqlalchemy import create_engine\n",
    "import re\n",
    "import pickle\n",
    "import nltk\n",
    "\n",
    "nltk.download('punkt')\n",
    "nltk.download('wordnet')\n",
    "nltk.download('stopwords')\n",
    "\n",
    "from nltk.corpus import stopwords\n",
    "from nltk.tokenize import word_tokenize\n",
    "from nltk.stem.porter import PorterStemmer\n",
    "from nltk.stem import WordNetLemmatizer\n",
    "\n",
    "from sklearn.pipeline import Pipeline\n",
    "from sklearn.metrics import confusion_matrix \n",
    "from sklearn.feature_extraction.text import CountVectorizer, TfidfTransformer\n",
    "from sklearn.model_selection import train_test_split, GridSearchCV\n",
    "from sklearn.ensemble import RandomForestClassifier\n",
    "from sklearn.multioutput import MultiOutputClassifier\n",
    "from sklearn.metrics import accuracy_score, precision_score, recall_score, f1_score, make_scorer\n",
    "from sklearn.model_selection import GridSearchCV\n",
    "from sklearn.svm import SVC\n",
    "from sklearn.metrics import classification_report"
   ]
  },
  {
   "cell_type": "code",
   "execution_count": 14,
   "metadata": {},
   "outputs": [],
   "source": [
    "# load data from database\n",
    "engine = create_engine('sqlite:///MessagesCleanDatabase.db')\n",
    "df = pd.read_sql(\"SELECT * FROM LabeledMessages\", engine)\n",
    "\n",
    "X = df['message']\n",
    "y = df.drop(['id', 'message', 'original', 'genre'], axis=1)"
   ]
  },
  {
   "cell_type": "markdown",
   "metadata": {},
   "source": [
    "### 2. Write a tokenization function to process your text data"
   ]
  },
  {
   "cell_type": "code",
   "execution_count": 3,
   "metadata": {},
   "outputs": [
    {
     "name": "stdout",
     "output_type": "stream",
     "text": [
      "['weather', 'updat', 'cold', 'front', 'cuba', 'could', 'pa', 'haiti']\n",
      "['hurrican']\n",
      "['bangkok', '24', 'januari', '2012', 'nnt', 'prime', 'minist', 'yingluck', 'shinawatra', 'attend', 'meet', 'perman', 'secretari', 'variou', 'ministri', 'urg', 'quickli', 'distribut', 'flood', 'compens', 'wise', 'util', 'budget']\n"
     ]
    }
   ],
   "source": [
    "def tokenize(text):\n",
    "    # Normalize text \n",
    "    text = text.lower() \n",
    "    text = text.strip()\n",
    "    text = re.sub(r\"[^a-zA-Z0-9]\", \" \", text)\n",
    "    \n",
    "    # Tokenize text \n",
    "    tokens = word_tokenize(text) \n",
    "    \n",
    "    # Remove stop words \n",
    "    tokens = [t for t in tokens if t not in stopwords.words(\"english\")] \n",
    "    \n",
    "    # Lemmatization - Reduce words to their root form \n",
    "    tokens = [WordNetLemmatizer().lemmatize(t) for t in tokens]\n",
    "    \n",
    "    # Stemming - Reduce words to their stems\n",
    "    tokens = [PorterStemmer().stem(t) for t in tokens] \n",
    "    \n",
    "    clean_tokens = [] \n",
    "    for tok in tokens: \n",
    "        clean_tokens.append(tok) \n",
    "    return clean_tokens\n",
    "print(tokenize(X[0]))\n",
    "print(tokenize(X[1]))\n",
    "print(tokenize(X[26203]))"
   ]
  },
  {
   "cell_type": "markdown",
   "metadata": {},
   "source": [
    "### 3. Build a machine learning pipeline\n",
    "This machine pipeline should take in the `message` column as input and output classification results on the other 36 categories in the dataset. You may find the [MultiOutputClassifier](http://scikit-learn.org/stable/modules/generated/sklearn.multioutput.MultiOutputClassifier.html) helpful for predicting multiple target variables."
   ]
  },
  {
   "cell_type": "code",
   "execution_count": 4,
   "metadata": {},
   "outputs": [],
   "source": [
    "pipeline = Pipeline([\n",
    "    ('vect', CountVectorizer(tokenizer=tokenize)),\n",
    "    ('tfidf', TfidfTransformer()),\n",
    "    ('clf', MultiOutputClassifier(RandomForestClassifier(class_weight='balanced')))\n",
    "])"
   ]
  },
  {
   "cell_type": "markdown",
   "metadata": {},
   "source": [
    "### 4. Train pipeline\n",
    "- Split data into train and test sets\n",
    "- Train pipeline"
   ]
  },
  {
   "cell_type": "code",
   "execution_count": 5,
   "metadata": {},
   "outputs": [],
   "source": [
    "X_train, X_test, y_train, y_test = train_test_split(X, y)\n",
    "\n",
    "# train classifier \n",
    "pipeline.fit(X_train, y_train) \n",
    "\n",
    "# predict on test data \n",
    "y_pred = pipeline.predict(X_test) "
   ]
  },
  {
   "cell_type": "code",
   "execution_count": 6,
   "metadata": {},
   "outputs": [
    {
     "name": "stdout",
     "output_type": "stream",
     "text": [
      "[[1 0 0 ..., 0 0 0]\n",
      " [1 0 0 ..., 0 0 0]\n",
      " [1 0 0 ..., 0 0 0]\n",
      " ..., \n",
      " [1 0 0 ..., 0 0 0]\n",
      " [1 0 0 ..., 0 0 1]\n",
      " [1 0 0 ..., 0 0 0]]\n"
     ]
    }
   ],
   "source": [
    "print(y_pred)"
   ]
  },
  {
   "cell_type": "code",
   "execution_count": 7,
   "metadata": {},
   "outputs": [
    {
     "name": "stdout",
     "output_type": "stream",
     "text": [
      "(6554, 36)\n",
      "(6554, 36)\n",
      "['related' 'request' 'offer' 'aid_related' 'medical_help'\n",
      " 'medical_products' 'search_and_rescue' 'security' 'military' 'child_alone'\n",
      " 'water' 'food' 'shelter' 'clothing' 'money' 'missing_people' 'refugees'\n",
      " 'death' 'other_aid' 'infrastructure_related' 'transport' 'buildings'\n",
      " 'electricity' 'tools' 'hospitals' 'shops' 'aid_centers'\n",
      " 'other_infrastructure' 'weather_related' 'floods' 'storm' 'fire'\n",
      " 'earthquake' 'cold' 'other_weather' 'direct_report']\n"
     ]
    }
   ],
   "source": [
    "print(y_test.shape)\n",
    "print(y_pred.shape)\n",
    "print(y.columns.values)"
   ]
  },
  {
   "cell_type": "markdown",
   "metadata": {},
   "source": [
    "### 5. Test your model\n",
    "Report the f1 score, precision and recall for each output category of the dataset. You can do this by iterating through the columns and calling sklearn's `classification_report` on each."
   ]
  },
  {
   "cell_type": "code",
   "execution_count": 16,
   "metadata": {},
   "outputs": [
    {
     "ename": "ValueError",
     "evalue": "Unknown label type: (       related  request  offer  aid_related  medical_help  medical_products  \\\n17635        1        0      0            1             0                 0   \n8855         1        1      0            1             0                 0   \n22942        1        0      0            1             0                 0   \n20403        1        0      0            1             0                 0   \n122          1        1      0            1             0                 0   \n18546        0        0      0            0             0                 0   \n25370        1        0      0            0             0                 0   \n2515         1        0      0            0             0                 0   \n2882         1        0      0            0             0                 0   \n18005        1        0      0            1             0                 0   \n6514         1        1      0            1             0                 0   \n15645        1        0      0            0             0                 0   \n2822         1        1      0            0             0                 0   \n1487         1        1      0            1             1                 0   \n14503        1        0      0            1             1                 1   \n19738        1        0      0            1             0                 0   \n11384        1        0      0            1             1                 1   \n7517         0        0      0            0             0                 0   \n4098         1        1      0            0             0                 0   \n23968        1        0      0            1             0                 0   \n20244        1        0      0            0             0                 0   \n22367        1        0      0            0             0                 0   \n16987        1        0      0            1             0                 0   \n4418         1        1      0            1             0                 0   \n3867         1        1      0            0             0                 0   \n25464        1        0      0            0             0                 0   \n4728         1        0      0            0             0                 0   \n24211        1        0      0            1             0                 0   \n774          1        1      0            1             0                 0   \n5676         1        1      0            1             0                 0   \n...        ...      ...    ...          ...           ...               ...   \n5531         0        0      0            0             0                 0   \n20760        1        1      0            1             0                 0   \n20997        1        0      0            0             0                 0   \n9210         1        0      0            0             0                 0   \n25054        1        0      0            1             0                 0   \n1703         1        1      0            1             0                 0   \n4394         0        0      0            0             0                 0   \n5842         1        0      0            1             0                 0   \n4556         1        0      0            0             0                 0   \n6916         0        0      0            0             0                 0   \n6568         1        1      0            1             0                 0   \n8068         0        0      0            0             0                 0   \n1937         1        0      0            0             0                 0   \n15612        0        0      0            0             0                 0   \n8957         1        0      0            0             0                 0   \n4624         1        1      0            1             0                 0   \n4188         0        0      0            0             0                 0   \n2225         0        0      0            0             0                 0   \n4427         0        0      0            0             0                 0   \n11463        1        0      0            0             0                 0   \n4529         0        0      0            0             0                 0   \n19509        0        0      0            0             0                 0   \n16572        1        0      0            1             0                 0   \n11540        1        0      0            1             0                 0   \n1517         1        1      0            1             0                 0   \n15407        1        0      0            0             0                 0   \n4801         0        0      0            0             0                 0   \n18827        1        0      0            1             0                 0   \n12229        1        1      0            1             1                 1   \n25241        1        0      0            0             0                 0   \n\n       search_and_rescue  security  military  child_alone      ...        \\\n17635                  0         0         0            0      ...         \n8855                   0         0         0            0      ...         \n22942                  0         0         0            0      ...         \n20403                  0         0         0            0      ...         \n122                    0         0         0            0      ...         \n18546                  0         0         0            0      ...         \n25370                  0         0         0            0      ...         \n2515                   0         0         0            0      ...         \n2882                   0         0         0            0      ...         \n18005                  0         0         1            0      ...         \n6514                   0         0         0            0      ...         \n15645                  0         0         0            0      ...         \n2822                   0         0         0            0      ...         \n1487                   0         0         0            0      ...         \n14503                  0         0         0            0      ...         \n19738                  0         0         0            0      ...         \n11384                  0         0         0            0      ...         \n7517                   0         0         0            0      ...         \n4098                   0         0         0            0      ...         \n23968                  0         0         0            0      ...         \n20244                  0         0         0            0      ...         \n22367                  0         0         0            0      ...         \n16987                  0         0         0            0      ...         \n4418                   0         0         0            0      ...         \n3867                   0         0         0            0      ...         \n25464                  0         0         0            0      ...         \n4728                   0         0         0            0      ...         \n24211                  0         1         0            0      ...         \n774                    0         0         0            0      ...         \n5676                   0         0         0            0      ...         \n...                  ...       ...       ...          ...      ...         \n5531                   0         0         0            0      ...         \n20760                  0         1         0            0      ...         \n20997                  0         0         0            0      ...         \n9210                   0         0         0            0      ...         \n25054                  0         0         0            0      ...         \n1703                   0         0         0            0      ...         \n4394                   0         0         0            0      ...         \n5842                   0         0         0            0      ...         \n4556                   0         0         0            0      ...         \n6916                   0         0         0            0      ...         \n6568                   0         0         0            0      ...         \n8068                   0         0         0            0      ...         \n1937                   0         0         0            0      ...         \n15612                  0         0         0            0      ...         \n8957                   0         0         0            0      ...         \n4624                   0         0         0            0      ...         \n4188                   0         0         0            0      ...         \n2225                   0         0         0            0      ...         \n4427                   0         0         0            0      ...         \n11463                  0         0         0            0      ...         \n4529                   0         0         0            0      ...         \n19509                  0         0         0            0      ...         \n16572                  0         0         0            0      ...         \n11540                  0         1         1            0      ...         \n1517                   0         0         0            0      ...         \n15407                  0         0         0            0      ...         \n4801                   0         0         0            0      ...         \n18827                  0         0         0            0      ...         \n12229                  0         0         0            0      ...         \n25241                  0         0         0            0      ...         \n\n       aid_centers  other_infrastructure  weather_related  floods  storm  \\\n17635            0                     0                0       0      0   \n8855             0                     0                1       1      0   \n22942            0                     0                1       1      0   \n20403            0                     0                1       0      0   \n122              0                     0                0       0      0   \n18546            0                     0                0       0      0   \n25370            0                     0                0       0      0   \n2515             0                     0                0       0      0   \n2882             0                     0                0       0      0   \n18005            0                     0                0       0      0   \n6514             0                     0                0       0      0   \n15645            0                     1                1       1      1   \n2822             0                     0                0       0      0   \n1487             0                     0                0       0      0   \n14503            0                     0                0       0      0   \n19738            0                     0                0       0      0   \n11384            0                     0                1       1      1   \n7517             0                     0                0       0      0   \n4098             0                     0                0       0      0   \n23968            0                     0                0       0      0   \n20244            0                     1                1       0      1   \n22367            0                     0                0       0      0   \n16987            0                     0                0       0      0   \n4418             0                     0                0       0      0   \n3867             0                     0                0       0      0   \n25464            0                     0                1       0      0   \n4728             0                     0                0       0      0   \n24211            0                     0                0       0      0   \n774              0                     0                0       0      0   \n5676             0                     0                0       0      0   \n...            ...                   ...              ...     ...    ...   \n5531             0                     0                0       0      0   \n20760            0                     0                0       0      0   \n20997            0                     1                0       0      0   \n9210             0                     0                0       0      0   \n25054            0                     0                0       0      0   \n1703             0                     0                1       0      0   \n4394             0                     0                0       0      0   \n5842             0                     0                1       0      0   \n4556             0                     0                0       0      0   \n6916             0                     0                0       0      0   \n6568             0                     0                1       0      1   \n8068             0                     0                0       0      0   \n1937             0                     0                0       0      0   \n15612            0                     0                0       0      0   \n8957             0                     0                0       0      0   \n4624             0                     0                0       0      0   \n4188             0                     0                0       0      0   \n2225             0                     0                0       0      0   \n4427             0                     0                0       0      0   \n11463            0                     0                0       0      0   \n4529             0                     0                0       0      0   \n19509            0                     0                0       0      0   \n16572            0                     0                0       0      0   \n11540            0                     0                0       0      0   \n1517             0                     0                0       0      0   \n15407            0                     0                1       0      1   \n4801             0                     0                0       0      0   \n18827            0                     0                1       0      1   \n12229            1                     1                1       1      0   \n25241            0                     0                0       0      0   \n\n       fire  earthquake  cold  other_weather  direct_report  \n17635     0           0     0              0              1  \n8855      0           1     0              0              1  \n22942     0           0     0              0              0  \n20403     0           0     1              0              0  \n122       0           0     0              0              1  \n18546     0           0     0              0              0  \n25370     0           0     0              0              0  \n2515      0           0     0              0              0  \n2882      0           0     0              0              0  \n18005     0           0     0              0              0  \n6514      0           0     0              0              1  \n15645     0           0     0              1              0  \n2822      0           0     0              0              1  \n1487      0           0     0              0              1  \n14503     0           0     0              0              1  \n19738     0           0     0              0              0  \n11384     0           0     0              0              1  \n7517      0           0     0              0              0  \n4098      0           0     0              0              1  \n23968     0           0     0              0              0  \n20244     0           0     0              0              0  \n22367     0           0     0              0              1  \n16987     0           0     0              0              0  \n4418      0           0     0              0              1  \n3867      0           0     0              0              0  \n25464     0           0     0              1              0  \n4728      0           0     0              0              0  \n24211     0           0     0              0              0  \n774       0           0     0              0              0  \n5676      0           0     0              0              1  \n...     ...         ...   ...            ...            ...  \n5531      0           0     0              0              0  \n20760     0           0     0              0              1  \n20997     0           0     0              0              0  \n9210      0           0     0              0              0  \n25054     0           0     0              0              1  \n1703      0           0     0              1              1  \n4394      0           0     0              0              0  \n5842      0           1     0              0              0  \n4556      0           0     0              0              0  \n6916      0           0     0              0              0  \n6568      0           0     0              0              1  \n8068      0           0     0              0              0  \n1937      0           0     0              0              0  \n15612     0           0     0              0              0  \n8957      0           0     0              0              0  \n4624      0           0     0              0              0  \n4188      0           0     0              0              0  \n2225      0           0     0              0              0  \n4427      0           0     0              0              0  \n11463     0           0     0              0              0  \n4529      0           0     0              0              0  \n19509     0           0     0              0              0  \n16572     0           0     0              0              0  \n11540     0           0     0              0              1  \n1517      0           0     0              0              1  \n15407     0           0     0              0              0  \n4801      0           0     0              0              0  \n18827     0           0     0              0              0  \n12229     0           0     0              0              1  \n25241     0           0     0              0              0  \n\n[6554 rows x 36 columns], array([[1, 0, 0, ..., 0, 0, 0],\n       [1, 0, 0, ..., 0, 0, 0],\n       [1, 0, 0, ..., 0, 0, 0],\n       ..., \n       [1, 0, 0, ..., 0, 0, 0],\n       [1, 0, 0, ..., 0, 0, 1],\n       [1, 0, 0, ..., 0, 0, 0]]))",
     "output_type": "error",
     "traceback": [
      "\u001b[0;31m---------------------------------------------------------------------------\u001b[0m",
      "\u001b[0;31mValueError\u001b[0m                                Traceback (most recent call last)",
      "\u001b[0;32m<ipython-input-16-0302191efd73>\u001b[0m in \u001b[0;36m<module>\u001b[0;34m()\u001b[0m\n\u001b[1;32m      1\u001b[0m \u001b[0mpipeline\u001b[0m\u001b[0;34m.\u001b[0m\u001b[0mscore\u001b[0m\u001b[0;34m(\u001b[0m\u001b[0mX_test\u001b[0m\u001b[0;34m,\u001b[0m \u001b[0my_test\u001b[0m\u001b[0;34m)\u001b[0m\u001b[0;34m\u001b[0m\u001b[0m\n\u001b[1;32m      2\u001b[0m \u001b[0;34m\u001b[0m\u001b[0m\n\u001b[0;32m----> 3\u001b[0;31m \u001b[0mclassification_report\u001b[0m\u001b[0;34m(\u001b[0m\u001b[0my_test\u001b[0m\u001b[0;34m,\u001b[0m \u001b[0my_pred\u001b[0m\u001b[0;34m,\u001b[0m \u001b[0mtarget_names\u001b[0m\u001b[0;34m=\u001b[0m\u001b[0my\u001b[0m\u001b[0;34m.\u001b[0m\u001b[0mcolumns\u001b[0m\u001b[0;34m.\u001b[0m\u001b[0mvalues\u001b[0m\u001b[0;34m)\u001b[0m\u001b[0;34m\u001b[0m\u001b[0m\n\u001b[0m\u001b[1;32m      4\u001b[0m \u001b[0;34m\u001b[0m\u001b[0m\n\u001b[1;32m      5\u001b[0m \u001b[0;31m# labels = np.unique(y_pred)\u001b[0m\u001b[0;34m\u001b[0m\u001b[0;34m\u001b[0m\u001b[0m\n",
      "\u001b[0;32m/opt/conda/lib/python3.6/site-packages/sklearn/metrics/classification.py\u001b[0m in \u001b[0;36mclassification_report\u001b[0;34m(y_true, y_pred, labels, target_names, sample_weight, digits)\u001b[0m\n\u001b[1;32m   1419\u001b[0m \u001b[0;34m\u001b[0m\u001b[0m\n\u001b[1;32m   1420\u001b[0m     \u001b[0;32mif\u001b[0m \u001b[0mlabels\u001b[0m \u001b[0;32mis\u001b[0m \u001b[0;32mNone\u001b[0m\u001b[0;34m:\u001b[0m\u001b[0;34m\u001b[0m\u001b[0m\n\u001b[0;32m-> 1421\u001b[0;31m         \u001b[0mlabels\u001b[0m \u001b[0;34m=\u001b[0m \u001b[0munique_labels\u001b[0m\u001b[0;34m(\u001b[0m\u001b[0my_true\u001b[0m\u001b[0;34m,\u001b[0m \u001b[0my_pred\u001b[0m\u001b[0;34m)\u001b[0m\u001b[0;34m\u001b[0m\u001b[0m\n\u001b[0m\u001b[1;32m   1422\u001b[0m     \u001b[0;32melse\u001b[0m\u001b[0;34m:\u001b[0m\u001b[0;34m\u001b[0m\u001b[0m\n\u001b[1;32m   1423\u001b[0m         \u001b[0mlabels\u001b[0m \u001b[0;34m=\u001b[0m \u001b[0mnp\u001b[0m\u001b[0;34m.\u001b[0m\u001b[0masarray\u001b[0m\u001b[0;34m(\u001b[0m\u001b[0mlabels\u001b[0m\u001b[0;34m)\u001b[0m\u001b[0;34m\u001b[0m\u001b[0m\n",
      "\u001b[0;32m/opt/conda/lib/python3.6/site-packages/sklearn/utils/multiclass.py\u001b[0m in \u001b[0;36munique_labels\u001b[0;34m(*ys)\u001b[0m\n\u001b[1;32m     95\u001b[0m     \u001b[0m_unique_labels\u001b[0m \u001b[0;34m=\u001b[0m \u001b[0m_FN_UNIQUE_LABELS\u001b[0m\u001b[0;34m.\u001b[0m\u001b[0mget\u001b[0m\u001b[0;34m(\u001b[0m\u001b[0mlabel_type\u001b[0m\u001b[0;34m,\u001b[0m \u001b[0;32mNone\u001b[0m\u001b[0;34m)\u001b[0m\u001b[0;34m\u001b[0m\u001b[0m\n\u001b[1;32m     96\u001b[0m     \u001b[0;32mif\u001b[0m \u001b[0;32mnot\u001b[0m \u001b[0m_unique_labels\u001b[0m\u001b[0;34m:\u001b[0m\u001b[0;34m\u001b[0m\u001b[0m\n\u001b[0;32m---> 97\u001b[0;31m         \u001b[0;32mraise\u001b[0m \u001b[0mValueError\u001b[0m\u001b[0;34m(\u001b[0m\u001b[0;34m\"Unknown label type: %s\"\u001b[0m \u001b[0;34m%\u001b[0m \u001b[0mrepr\u001b[0m\u001b[0;34m(\u001b[0m\u001b[0mys\u001b[0m\u001b[0;34m)\u001b[0m\u001b[0;34m)\u001b[0m\u001b[0;34m\u001b[0m\u001b[0m\n\u001b[0m\u001b[1;32m     98\u001b[0m \u001b[0;34m\u001b[0m\u001b[0m\n\u001b[1;32m     99\u001b[0m     \u001b[0mys_labels\u001b[0m \u001b[0;34m=\u001b[0m \u001b[0mset\u001b[0m\u001b[0;34m(\u001b[0m\u001b[0mchain\u001b[0m\u001b[0;34m.\u001b[0m\u001b[0mfrom_iterable\u001b[0m\u001b[0;34m(\u001b[0m\u001b[0m_unique_labels\u001b[0m\u001b[0;34m(\u001b[0m\u001b[0my\u001b[0m\u001b[0;34m)\u001b[0m \u001b[0;32mfor\u001b[0m \u001b[0my\u001b[0m \u001b[0;32min\u001b[0m \u001b[0mys\u001b[0m\u001b[0;34m)\u001b[0m\u001b[0;34m)\u001b[0m\u001b[0;34m\u001b[0m\u001b[0m\n",
      "\u001b[0;31mValueError\u001b[0m: Unknown label type: (       related  request  offer  aid_related  medical_help  medical_products  \\\n17635        1        0      0            1             0                 0   \n8855         1        1      0            1             0                 0   \n22942        1        0      0            1             0                 0   \n20403        1        0      0            1             0                 0   \n122          1        1      0            1             0                 0   \n18546        0        0      0            0             0                 0   \n25370        1        0      0            0             0                 0   \n2515         1        0      0            0             0                 0   \n2882         1        0      0            0             0                 0   \n18005        1        0      0            1             0                 0   \n6514         1        1      0            1             0                 0   \n15645        1        0      0            0             0                 0   \n2822         1        1      0            0             0                 0   \n1487         1        1      0            1             1                 0   \n14503        1        0      0            1             1                 1   \n19738        1        0      0            1             0                 0   \n11384        1        0      0            1             1                 1   \n7517         0        0      0            0             0                 0   \n4098         1        1      0            0             0                 0   \n23968        1        0      0            1             0                 0   \n20244        1        0      0            0             0                 0   \n22367        1        0      0            0             0                 0   \n16987        1        0      0            1             0                 0   \n4418         1        1      0            1             0                 0   \n3867         1        1      0            0             0                 0   \n25464        1        0      0            0             0                 0   \n4728         1        0      0            0             0                 0   \n24211        1        0      0            1             0                 0   \n774          1        1      0            1             0                 0   \n5676         1        1      0            1             0                 0   \n...        ...      ...    ...          ...           ...               ...   \n5531         0        0      0            0             0                 0   \n20760        1        1      0            1             0                 0   \n20997        1        0      0            0             0                 0   \n9210         1        0      0            0             0                 0   \n25054        1        0      0            1             0                 0   \n1703         1        1      0            1             0                 0   \n4394         0        0      0            0             0                 0   \n5842         1        0      0            1             0                 0   \n4556         1        0      0            0             0                 0   \n6916         0        0      0            0             0                 0   \n6568         1        1      0            1             0                 0   \n8068         0        0      0            0             0                 0   \n1937         1        0      0            0             0                 0   \n15612        0        0      0            0             0                 0   \n8957         1        0      0            0             0                 0   \n4624         1        1      0            1             0                 0   \n4188         0        0      0            0             0                 0   \n2225         0        0      0            0             0                 0   \n4427         0        0      0            0             0                 0   \n11463        1        0      0            0             0                 0   \n4529         0        0      0            0             0                 0   \n19509        0        0      0            0             0                 0   \n16572        1        0      0            1             0                 0   \n11540        1        0      0            1             0                 0   \n1517         1        1      0            1             0                 0   \n15407        1        0      0            0             0                 0   \n4801         0        0      0            0             0                 0   \n18827        1        0      0            1             0                 0   \n12229        1        1      0            1             1                 1   \n25241        1        0      0            0             0                 0   \n\n       search_and_rescue  security  military  child_alone      ...        \\\n17635                  0         0         0            0      ...         \n8855                   0         0         0            0      ...         \n22942                  0         0         0            0      ...         \n20403                  0         0         0            0      ...         \n122                    0         0         0            0      ...         \n18546                  0         0         0            0      ...         \n25370                  0         0         0            0      ...         \n2515                   0         0         0            0      ...         \n2882                   0         0         0            0      ...         \n18005                  0         0         1            0      ...         \n6514                   0         0         0            0      ...         \n15645                  0         0         0            0      ...         \n2822                   0         0         0            0      ...         \n1487                   0         0         0            0      ...         \n14503                  0         0         0            0      ...         \n19738                  0         0         0            0      ...         \n11384                  0         0         0            0      ...         \n7517                   0         0         0            0      ...         \n4098                   0         0         0            0      ...         \n23968                  0         0         0            0      ...         \n20244                  0         0         0            0      ...         \n22367                  0         0         0            0      ...         \n16987                  0         0         0            0      ...         \n4418                   0         0         0            0      ...         \n3867                   0         0         0            0      ...         \n25464                  0         0         0            0      ...         \n4728                   0         0         0            0      ...         \n24211                  0         1         0            0      ...         \n774                    0         0         0            0      ...         \n5676                   0         0         0            0      ...         \n...                  ...       ...       ...          ...      ...         \n5531                   0         0         0            0      ...         \n20760                  0         1         0            0      ...         \n20997                  0         0         0            0      ...         \n9210                   0         0         0            0      ...         \n25054                  0         0         0            0      ...         \n1703                   0         0         0            0      ...         \n4394                   0         0         0            0      ...         \n5842                   0         0         0            0      ...         \n4556                   0         0         0            0      ...         \n6916                   0         0         0            0      ...         \n6568                   0         0         0            0      ...         \n8068                   0         0         0            0      ...         \n1937                   0         0         0            0      ...         \n15612                  0         0         0            0      ...         \n8957                   0         0         0            0      ...         \n4624                   0         0         0            0      ...         \n4188                   0         0         0            0      ...         \n2225                   0         0         0            0      ...         \n4427                   0         0         0            0      ...         \n11463                  0         0         0            0      ...         \n4529                   0         0         0            0      ...         \n19509                  0         0         0            0      ...         \n16572                  0         0         0            0      ...         \n11540                  0         1         1            0      ...         \n1517                   0         0         0            0      ...         \n15407                  0         0         0            0      ...         \n4801                   0         0         0            0      ...         \n18827                  0         0         0            0      ...         \n12229                  0         0         0            0      ...         \n25241                  0         0         0            0      ...         \n\n       aid_centers  other_infrastructure  weather_related  floods  storm  \\\n17635            0                     0                0       0      0   \n8855             0                     0                1       1      0   \n22942            0                     0                1       1      0   \n20403            0                     0                1       0      0   \n122              0                     0                0       0      0   \n18546            0                     0                0       0      0   \n25370            0                     0                0       0      0   \n2515             0                     0                0       0      0   \n2882             0                     0                0       0      0   \n18005            0                     0                0       0      0   \n6514             0                     0                0       0      0   \n15645            0                     1                1       1      1   \n2822             0                     0                0       0      0   \n1487             0                     0                0       0      0   \n14503            0                     0                0       0      0   \n19738            0                     0                0       0      0   \n11384            0                     0                1       1      1   \n7517             0                     0                0       0      0   \n4098             0                     0                0       0      0   \n23968            0                     0                0       0      0   \n20244            0                     1                1       0      1   \n22367            0                     0                0       0      0   \n16987            0                     0                0       0      0   \n4418             0                     0                0       0      0   \n3867             0                     0                0       0      0   \n25464            0                     0                1       0      0   \n4728             0                     0                0       0      0   \n24211            0                     0                0       0      0   \n774              0                     0                0       0      0   \n5676             0                     0                0       0      0   \n...            ...                   ...              ...     ...    ...   \n5531             0                     0                0       0      0   \n20760            0                     0                0       0      0   \n20997            0                     1                0       0      0   \n9210             0                     0                0       0      0   \n25054            0                     0                0       0      0   \n1703             0                     0                1       0      0   \n4394             0                     0                0       0      0   \n5842             0                     0                1       0      0   \n4556             0                     0                0       0      0   \n6916             0                     0                0       0      0   \n6568             0                     0                1       0      1   \n8068             0                     0                0       0      0   \n1937             0                     0                0       0      0   \n15612            0                     0                0       0      0   \n8957             0                     0                0       0      0   \n4624             0                     0                0       0      0   \n4188             0                     0                0       0      0   \n2225             0                     0                0       0      0   \n4427             0                     0                0       0      0   \n11463            0                     0                0       0      0   \n4529             0                     0                0       0      0   \n19509            0                     0                0       0      0   \n16572            0                     0                0       0      0   \n11540            0                     0                0       0      0   \n1517             0                     0                0       0      0   \n15407            0                     0                1       0      1   \n4801             0                     0                0       0      0   \n18827            0                     0                1       0      1   \n12229            1                     1                1       1      0   \n25241            0                     0                0       0      0   \n\n       fire  earthquake  cold  other_weather  direct_report  \n17635     0           0     0              0              1  \n8855      0           1     0              0              1  \n22942     0           0     0              0              0  \n20403     0           0     1              0              0  \n122       0           0     0              0              1  \n18546     0           0     0              0              0  \n25370     0           0     0              0              0  \n2515      0           0     0              0              0  \n2882      0           0     0              0              0  \n18005     0           0     0              0              0  \n6514      0           0     0              0              1  \n15645     0           0     0              1              0  \n2822      0           0     0              0              1  \n1487      0           0     0              0              1  \n14503     0           0     0              0              1  \n19738     0           0     0              0              0  \n11384     0           0     0              0              1  \n7517      0           0     0              0              0  \n4098      0           0     0              0              1  \n23968     0           0     0              0              0  \n20244     0           0     0              0              0  \n22367     0           0     0              0              1  \n16987     0           0     0              0              0  \n4418      0           0     0              0              1  \n3867      0           0     0              0              0  \n25464     0           0     0              1              0  \n4728      0           0     0              0              0  \n24211     0           0     0              0              0  \n774       0           0     0              0              0  \n5676      0           0     0              0              1  \n...     ...         ...   ...            ...            ...  \n5531      0           0     0              0              0  \n20760     0           0     0              0              1  \n20997     0           0     0              0              0  \n9210      0           0     0              0              0  \n25054     0           0     0              0              1  \n1703      0           0     0              1              1  \n4394      0           0     0              0              0  \n5842      0           1     0              0              0  \n4556      0           0     0              0              0  \n6916      0           0     0              0              0  \n6568      0           0     0              0              1  \n8068      0           0     0              0              0  \n1937      0           0     0              0              0  \n15612     0           0     0              0              0  \n8957      0           0     0              0              0  \n4624      0           0     0              0              0  \n4188      0           0     0              0              0  \n2225      0           0     0              0              0  \n4427      0           0     0              0              0  \n11463     0           0     0              0              0  \n4529      0           0     0              0              0  \n19509     0           0     0              0              0  \n16572     0           0     0              0              0  \n11540     0           0     0              0              1  \n1517      0           0     0              0              1  \n15407     0           0     0              0              0  \n4801      0           0     0              0              0  \n18827     0           0     0              0              0  \n12229     0           0     0              0              1  \n25241     0           0     0              0              0  \n\n[6554 rows x 36 columns], array([[1, 0, 0, ..., 0, 0, 0],\n       [1, 0, 0, ..., 0, 0, 0],\n       [1, 0, 0, ..., 0, 0, 0],\n       ..., \n       [1, 0, 0, ..., 0, 0, 0],\n       [1, 0, 0, ..., 0, 0, 1],\n       [1, 0, 0, ..., 0, 0, 0]]))"
     ]
    }
   ],
   "source": [
    "pipeline.score(X_test, y_test)\n",
    "\n",
    "classification_report(y_test, y_pred, target_names=y.columns.values)\n",
    "\n",
    "# labels = np.unique(y_pred) \n",
    "# # confusion_mat = confusion_matrix(y_test, y_pred, labels=labels) \n",
    "# accuracy = (y_pred == y_test).mean() \n",
    "# # print(\"Labels:\", labels) \n",
    "# # print(\"Confusion Matrix:\\n\", confusion_mat) \n",
    "# print(\"Accuracy:\", accuracy)"
   ]
  },
  {
   "cell_type": "markdown",
   "metadata": {},
   "source": [
    "### 6. Improve your model\n",
    "Use grid search to find better parameters. "
   ]
  },
  {
   "cell_type": "code",
   "execution_count": 1,
   "metadata": {},
   "outputs": [],
   "source": [
    "parameters = {\n",
    "    'vect__min_df': [1, 5],\n",
    "    'tfidf__use_idf':[True, False],\n",
    "    'clf__estimator__n_estimators':[10, 25], \n",
    "    'clf__estimator__min_samples_split':[2, 5, 10]\n",
    "}\n",
    "\n",
    "svc = SVC()\n",
    "clf = GridSearchCV(svc, parameters)\n",
    "clf.fit(X_train, y_train)"
   ]
  },
  {
   "cell_type": "markdown",
   "metadata": {},
   "source": [
    "### 7. Test your model\n",
    "Show the accuracy, precision, and recall of the tuned model.  \n",
    "\n",
    "Since this project focuses on code quality, process, and  pipelines, there is no minimum performance metric needed to pass. However, make sure to fine tune your models for accuracy, precision and recall to make your project stand out - especially for your portfolio!"
   ]
  },
  {
   "cell_type": "code",
   "execution_count": null,
   "metadata": {},
   "outputs": [],
   "source": []
  },
  {
   "cell_type": "markdown",
   "metadata": {},
   "source": [
    "### 8. Try improving your model further. Here are a few ideas:\n",
    "* try other machine learning algorithms\n",
    "* add other features besides the TF-IDF"
   ]
  },
  {
   "cell_type": "code",
   "execution_count": null,
   "metadata": {},
   "outputs": [],
   "source": []
  },
  {
   "cell_type": "markdown",
   "metadata": {},
   "source": [
    "### 9. Export your model as a pickle file"
   ]
  },
  {
   "cell_type": "code",
   "execution_count": null,
   "metadata": {},
   "outputs": [],
   "source": []
  },
  {
   "cell_type": "markdown",
   "metadata": {},
   "source": [
    "### 10. Use this notebook to complete `train.py`\n",
    "Use the template file attached in the Resources folder to write a script that runs the steps above to create a database and export a model based on a new dataset specified by the user."
   ]
  },
  {
   "cell_type": "code",
   "execution_count": null,
   "metadata": {},
   "outputs": [],
   "source": []
  }
 ],
 "metadata": {
  "kernelspec": {
   "display_name": "Python 3",
   "language": "python",
   "name": "python3"
  },
  "language_info": {
   "codemirror_mode": {
    "name": "ipython",
    "version": 3
   },
   "file_extension": ".py",
   "mimetype": "text/x-python",
   "name": "python",
   "nbconvert_exporter": "python",
   "pygments_lexer": "ipython3",
   "version": "3.6.3"
  }
 },
 "nbformat": 4,
 "nbformat_minor": 2
}
