{
 "cells": [
  {
   "cell_type": "markdown",
   "metadata": {},
   "source": [
    "# ML Pipeline Preparation\n",
    "Follow the instructions below to help you create your ML pipeline.\n",
    "### 1. Import libraries and load data from database.\n",
    "- Import Python libraries\n",
    "- Load dataset from database with [`read_sql_table`](https://pandas.pydata.org/pandas-docs/stable/generated/pandas.read_sql_table.html)\n",
    "- Define feature and target variables X and Y"
   ]
  },
  {
   "cell_type": "code",
   "execution_count": 1,
   "metadata": {},
   "outputs": [
    {
     "name": "stdout",
     "output_type": "stream",
     "text": [
      "[nltk_data] Downloading package punkt to /root/nltk_data...\n",
      "[nltk_data]   Unzipping tokenizers/punkt.zip.\n",
      "[nltk_data] Downloading package wordnet to /root/nltk_data...\n",
      "[nltk_data]   Unzipping corpora/wordnet.zip.\n",
      "[nltk_data] Downloading package stopwords to /root/nltk_data...\n",
      "[nltk_data]   Unzipping corpora/stopwords.zip.\n"
     ]
    }
   ],
   "source": [
    "# import libraries\n",
    "import pandas as pd\n",
    "import numpy as np\n",
    "from sqlalchemy import create_engine\n",
    "import re\n",
    "import pickle\n",
    "import nltk\n",
    "\n",
    "nltk.download('punkt')\n",
    "nltk.download('wordnet')\n",
    "nltk.download('stopwords')\n",
    "\n",
    "from nltk.corpus import stopwords\n",
    "from nltk.tokenize import word_tokenize\n",
    "from nltk.stem.porter import PorterStemmer\n",
    "from nltk.stem import WordNetLemmatizer\n",
    "\n",
    "from sklearn.pipeline import Pipeline\n",
    "from sklearn.metrics import confusion_matrix \n",
    "from sklearn.feature_extraction.text import CountVectorizer, TfidfTransformer\n",
    "from sklearn.model_selection import train_test_split, GridSearchCV\n",
    "from sklearn.ensemble import RandomForestClassifier\n",
    "from sklearn.multioutput import MultiOutputClassifier\n",
    "from sklearn.metrics import accuracy_score, precision_score, recall_score, f1_score, make_scorer\n",
    "from sklearn.model_selection import GridSearchCV\n",
    "from sklearn.svm import SVC\n",
    "from sklearn.metrics import classification_report"
   ]
  },
  {
   "cell_type": "code",
   "execution_count": 13,
   "metadata": {},
   "outputs": [],
   "source": [
    "# load data from database\n",
    "engine = create_engine('sqlite:///MessagesCleanDatabase.db')\n",
    "df = pd.read_sql(\"SELECT * FROM LabeledMessages\", engine)\n",
    "X = df['message']\n",
    "y = df.drop(['id', 'message', 'original', 'genre'], axis=1)"
   ]
  },
  {
   "cell_type": "markdown",
   "metadata": {},
   "source": [
    "### 2. Write a tokenization function to process your text data"
   ]
  },
  {
   "cell_type": "code",
   "execution_count": 3,
   "metadata": {},
   "outputs": [
    {
     "name": "stdout",
     "output_type": "stream",
     "text": [
      "['weather', 'update', 'cold', 'front', 'cuba', 'could', 'pas', 'haiti']\n",
      "['hurricane']\n",
      "['bangkok', '24', 'january', '2012', 'nnt', 'prime', 'minister', 'yingluck', 'shinawatra', 'attended', 'meeting', 'permanent', 'secretary', 'various', 'ministry', 'urging', 'quickly', 'distribute', 'flood', 'compensation', 'wisely', 'utilize', 'budget']\n"
     ]
    }
   ],
   "source": [
    "def tokenize(text):\n",
    "    # Normalize text \n",
    "    text = text.lower() \n",
    "    text = text.strip()\n",
    "    text = re.sub(r\"[^a-zA-Z0-9]\", \" \", text)\n",
    "    \n",
    "    # Tokenize text \n",
    "    tokens = word_tokenize(text) \n",
    "    \n",
    "    # Remove stop words \n",
    "    tokens = [t for t in tokens if t not in stopwords.words(\"english\")] \n",
    "    \n",
    "    # Lemmatization - Reduce words to their root form \n",
    "    tokens = [WordNetLemmatizer().lemmatize(t) for t in tokens]\n",
    "    \n",
    "    # Stemming - Reduce words to their stems\n",
    "#     tokens = [PorterStemmer().stem(t) for t in tokens] \n",
    "    \n",
    "    clean_tokens = [] \n",
    "    for tok in tokens: \n",
    "#         clean_tok = lemmatizer.lemmatize(tok).lower().strip() \n",
    "        clean_tokens.append(tok) \n",
    "    return clean_tokens\n",
    "print(tokenize(X[0]))\n",
    "print(tokenize(X[1]))\n",
    "print(tokenize(X[26203]))"
   ]
  },
  {
   "cell_type": "markdown",
   "metadata": {},
   "source": [
    "### 3. Build a machine learning pipeline\n",
    "This machine pipeline should take in the `message` column as input and output classification results on the other 36 categories in the dataset. You may find the [MultiOutputClassifier](http://scikit-learn.org/stable/modules/generated/sklearn.multioutput.MultiOutputClassifier.html) helpful for predicting multiple target variables."
   ]
  },
  {
   "cell_type": "code",
   "execution_count": 4,
   "metadata": {},
   "outputs": [],
   "source": [
    "pipeline = Pipeline([\n",
    "    ('vect', CountVectorizer(tokenizer=tokenize)),\n",
    "    ('tfidf', TfidfTransformer()),\n",
    "    ('clf', MultiOutputClassifier(RandomForestClassifier()))\n",
    "])"
   ]
  },
  {
   "cell_type": "markdown",
   "metadata": {},
   "source": [
    "### 4. Train pipeline\n",
    "- Split data into train and test sets\n",
    "- Train pipeline"
   ]
  },
  {
   "cell_type": "code",
   "execution_count": 5,
   "metadata": {},
   "outputs": [],
   "source": [
    "X_train, X_test, y_train, y_test = train_test_split(X, y)\n",
    "\n",
    "# train classifier \n",
    "pipeline.fit(X_train, y_train) \n",
    "\n",
    "# predict on test data \n",
    "y_pred = pipeline.predict(X_test) "
   ]
  },
  {
   "cell_type": "code",
   "execution_count": 23,
   "metadata": {},
   "outputs": [
    {
     "name": "stdout",
     "output_type": "stream",
     "text": [
      "[[0 0 0 ..., 0 0 0]\n",
      " [0 0 0 ..., 0 0 0]\n",
      " [1 0 0 ..., 0 0 0]\n",
      " ..., \n",
      " [1 0 0 ..., 0 0 0]\n",
      " [1 0 0 ..., 0 0 0]\n",
      " [0 0 0 ..., 0 0 0]]\n"
     ]
    }
   ],
   "source": [
    "print(y_pred)"
   ]
  },
  {
   "cell_type": "markdown",
   "metadata": {},
   "source": [
    "### 5. Test your model\n",
    "Report the f1 score, precision and recall for each output category of the dataset. You can do this by iterating through the columns and calling sklearn's `classification_report` on each."
   ]
  },
  {
   "cell_type": "code",
   "execution_count": 16,
   "metadata": {},
   "outputs": [
    {
     "ename": "ValueError",
     "evalue": "Unknown label type: (       related  request  offer  aid_related  medical_help  medical_products  \\\n9171         0        0      0            0             0                 0   \n16502        1        0      0            0             0                 0   \n11449        0        0      0            0             0                 0   \n12507        1        0      0            0             0                 0   \n24823        1        0      0            1             0                 0   \n7526         1        0      0            1             0                 0   \n20625        1        0      0            1             0                 0   \n5981         1        0      0            0             0                 0   \n24883        1        0      0            1             1                 1   \n4431         1        0      0            0             0                 0   \n9663         0        0      0            0             0                 0   \n11538        1        0      0            1             0                 0   \n23086        1        0      0            1             0                 0   \n7806         0        0      0            0             0                 0   \n16670        1        0      0            1             0                 0   \n2589         1        1      0            1             0                 0   \n9317         0        0      0            0             0                 0   \n9565         0        0      0            0             0                 0   \n12786        1        0      0            0             0                 0   \n2369         1        1      0            1             0                 0   \n10133        1        0      0            0             0                 0   \n5461         1        1      0            0             0                 0   \n16817        1        0      0            0             0                 0   \n7451         1        0      0            0             0                 0   \n18632        1        0      0            0             0                 0   \n13239        1        0      0            1             0                 0   \n1419         1        1      0            1             0                 0   \n12327        1        0      0            0             0                 0   \n16767        1        0      0            0             0                 0   \n15860        2        0      0            0             0                 0   \n...        ...      ...    ...          ...           ...               ...   \n24065        1        0      0            1             0                 1   \n25464        1        0      0            0             0                 0   \n22544        0        0      0            0             0                 0   \n25886        1        0      0            1             1                 0   \n22991        1        0      0            1             1                 0   \n18497        1        0      0            1             1                 0   \n13470        1        0      0            1             0                 0   \n17504        1        0      0            0             0                 0   \n3703         1        0      0            0             0                 0   \n2032         0        0      0            0             0                 0   \n22029        1        0      0            0             0                 0   \n3688         1        0      0            1             0                 0   \n3816         1        0      0            0             0                 0   \n5236         1        0      0            0             0                 0   \n6134         1        1      0            1             1                 1   \n4860         1        1      0            1             0                 0   \n9051         0        0      0            0             0                 0   \n11200        1        0      0            1             0                 0   \n7120         1        0      0            0             0                 0   \n13490        1        0      0            1             0                 0   \n25026        1        0      0            0             0                 0   \n19641        1        0      0            1             0                 0   \n20146        0        0      0            0             0                 0   \n1451         0        0      0            0             0                 0   \n2264         0        0      0            0             0                 0   \n10405        1        0      0            0             0                 0   \n12887        1        0      0            0             0                 0   \n8331         1        1      0            1             0                 0   \n9616         1        1      0            1             0                 0   \n3941         1        0      0            1             0                 0   \n\n       search_and_rescue  security  military  child_alone      ...        \\\n9171                   0         0         0            0      ...         \n16502                  0         0         0            0      ...         \n11449                  0         0         0            0      ...         \n12507                  0         0         0            0      ...         \n24823                  0         0         1            0      ...         \n7526                   0         0         0            0      ...         \n20625                  0         0         1            0      ...         \n5981                   0         0         0            0      ...         \n24883                  0         0         0            0      ...         \n4431                   0         0         0            0      ...         \n9663                   0         0         0            0      ...         \n11538                  0         0         0            0      ...         \n23086                  0         0         0            0      ...         \n7806                   0         0         0            0      ...         \n16670                  0         0         0            0      ...         \n2589                   1         0         0            0      ...         \n9317                   0         0         0            0      ...         \n9565                   0         0         0            0      ...         \n12786                  0         0         0            0      ...         \n2369                   0         0         0            0      ...         \n10133                  0         0         0            0      ...         \n5461                   0         0         0            0      ...         \n16817                  0         0         0            0      ...         \n7451                   0         0         0            0      ...         \n18632                  0         0         0            0      ...         \n13239                  1         0         0            0      ...         \n1419                   0         0         0            0      ...         \n12327                  0         0         0            0      ...         \n16767                  0         0         0            0      ...         \n15860                  0         0         0            0      ...         \n...                  ...       ...       ...          ...      ...         \n24065                  0         0         0            0      ...         \n25464                  0         0         0            0      ...         \n22544                  0         0         0            0      ...         \n25886                  0         0         0            0      ...         \n22991                  0         0         0            0      ...         \n18497                  0         0         0            0      ...         \n13470                  0         0         0            0      ...         \n17504                  0         0         0            0      ...         \n3703                   0         0         0            0      ...         \n2032                   0         0         0            0      ...         \n22029                  0         0         0            0      ...         \n3688                   0         0         0            0      ...         \n3816                   0         0         0            0      ...         \n5236                   0         0         0            0      ...         \n6134                   0         0         0            0      ...         \n4860                   0         0         0            0      ...         \n9051                   0         0         0            0      ...         \n11200                  0         0         0            0      ...         \n7120                   0         0         0            0      ...         \n13490                  0         0         0            0      ...         \n25026                  0         0         0            0      ...         \n19641                  0         0         1            0      ...         \n20146                  0         0         0            0      ...         \n1451                   0         0         0            0      ...         \n2264                   0         0         0            0      ...         \n10405                  0         0         0            0      ...         \n12887                  0         0         0            0      ...         \n8331                   0         0         0            0      ...         \n9616                   0         0         0            0      ...         \n3941                   0         1         0            0      ...         \n\n       aid_centers  other_infrastructure  weather_related  floods  storm  \\\n9171             0                     0                0       0      0   \n16502            0                     0                1       0      1   \n11449            0                     0                0       0      0   \n12507            0                     0                0       0      0   \n24823            0                     0                0       0      0   \n7526             0                     0                0       0      0   \n20625            0                     0                0       0      0   \n5981             0                     0                0       0      0   \n24883            0                     1                1       1      1   \n4431             0                     0                0       0      0   \n9663             0                     0                0       0      0   \n11538            0                     0                0       0      0   \n23086            0                     0                0       0      0   \n7806             0                     0                0       0      0   \n16670            0                     0                0       0      0   \n2589             0                     0                1       0      0   \n9317             0                     0                0       0      0   \n9565             0                     0                0       0      0   \n12786            0                     0                1       0      1   \n2369             0                     0                0       0      0   \n10133            0                     0                1       0      0   \n5461             0                     0                0       0      0   \n16817            0                     0                0       0      0   \n7451             0                     0                1       1      0   \n18632            0                     0                0       0      0   \n13239            0                     0                1       0      1   \n1419             0                     0                0       0      0   \n12327            0                     0                0       0      0   \n16767            0                     0                1       0      0   \n15860            0                     0                0       0      0   \n...            ...                   ...              ...     ...    ...   \n24065            0                     0                0       0      0   \n25464            0                     0                1       0      0   \n22544            0                     0                0       0      0   \n25886            0                     0                0       0      0   \n22991            0                     0                1       0      0   \n18497            0                     0                1       0      0   \n13470            0                     0                1       0      1   \n17504            0                     0                0       0      0   \n3703             0                     0                0       0      0   \n2032             0                     0                0       0      0   \n22029            0                     0                0       0      0   \n3688             0                     0                1       0      1   \n3816             0                     0                0       0      0   \n5236             0                     0                0       0      0   \n6134             0                     1                0       0      0   \n4860             0                     0                0       0      0   \n9051             0                     0                0       0      0   \n11200            0                     0                0       0      0   \n7120             0                     0                0       0      0   \n13490            0                     0                1       0      0   \n25026            0                     0                0       0      0   \n19641            0                     0                0       0      0   \n20146            0                     0                0       0      0   \n1451             0                     0                0       0      0   \n2264             0                     0                0       0      0   \n10405            0                     0                1       0      0   \n12887            0                     0                0       0      0   \n8331             0                     0                0       0      0   \n9616             0                     0                0       0      0   \n3941             0                     1                0       0      0   \n\n       fire  earthquake  cold  other_weather  direct_report  \n9171      0           0     0              0              0  \n16502     0           0     0              0              0  \n11449     0           0     0              0              0  \n12507     0           0     0              0              0  \n24823     0           0     0              0              0  \n7526      0           0     0              0              0  \n20625     0           0     0              0              0  \n5981      0           0     0              0              0  \n24883     0           0     0              1              0  \n4431      0           0     0              0              0  \n9663      0           0     0              0              0  \n11538     0           0     0              0              1  \n23086     0           0     0              0              0  \n7806      0           0     0              0              0  \n16670     0           0     0              0              0  \n2589      0           1     0              0              1  \n9317      0           0     0              0              0  \n9565      0           0     0              0              0  \n12786     0           0     0              0              1  \n2369      0           0     0              0              1  \n10133     0           1     0              0              0  \n5461      0           0     0              0              1  \n16817     0           0     0              0              0  \n7451      0           0     0              1              0  \n18632     0           0     0              0              0  \n13239     0           0     0              0              0  \n1419      0           0     0              0              1  \n12327     0           0     0              0              0  \n16767     0           1     0              0              0  \n15860     0           0     0              0              0  \n...     ...         ...   ...            ...            ...  \n24065     0           0     0              0              0  \n25464     0           0     0              1              0  \n22544     0           0     0              0              0  \n25886     0           0     0              0              0  \n22991     0           0     0              1              0  \n18497     0           1     0              0              0  \n13470     0           0     0              0              1  \n17504     0           0     0              0              0  \n3703      0           0     0              0              0  \n2032      0           0     0              0              0  \n22029     0           0     0              0              0  \n3688      0           1     0              0              0  \n3816      0           0     0              0              0  \n5236      0           0     0              0              0  \n6134      0           0     0              0              1  \n4860      0           0     0              0              1  \n9051      0           0     0              0              0  \n11200     0           0     0              0              1  \n7120      0           0     0              0              0  \n13490     0           1     0              0              0  \n25026     0           0     0              0              0  \n19641     0           0     0              0              0  \n20146     0           0     0              0              0  \n1451      0           0     0              0              0  \n2264      0           0     0              0              0  \n10405     0           1     0              0              0  \n12887     0           0     0              0              0  \n8331      0           0     0              0              1  \n9616      0           0     0              0              1  \n3941      0           0     0              0              0  \n\n[6554 rows x 36 columns], array([[0, 0, 0, ..., 0, 0, 0],\n       [1, 0, 0, ..., 0, 0, 0],\n       [1, 0, 0, ..., 0, 0, 0],\n       ..., \n       [1, 0, 0, ..., 0, 0, 0],\n       [0, 0, 0, ..., 0, 0, 0],\n       [1, 0, 0, ..., 0, 0, 1]]))",
     "output_type": "error",
     "traceback": [
      "\u001b[0;31m---------------------------------------------------------------------------\u001b[0m",
      "\u001b[0;31mValueError\u001b[0m                                Traceback (most recent call last)",
      "\u001b[0;32m<ipython-input-16-7278a5efa546>\u001b[0m in \u001b[0;36m<module>\u001b[0;34m()\u001b[0m\n\u001b[1;32m      1\u001b[0m \u001b[0;32mfrom\u001b[0m \u001b[0msklearn\u001b[0m \u001b[0;32mimport\u001b[0m \u001b[0mmetrics\u001b[0m\u001b[0;34m\u001b[0m\u001b[0m\n\u001b[0;32m----> 2\u001b[0;31m \u001b[0mprint\u001b[0m\u001b[0;34m(\u001b[0m\u001b[0mmetrics\u001b[0m\u001b[0;34m.\u001b[0m\u001b[0mclassification_report\u001b[0m\u001b[0;34m(\u001b[0m\u001b[0my_test\u001b[0m\u001b[0;34m,\u001b[0m \u001b[0my_pred\u001b[0m\u001b[0;34m)\u001b[0m\u001b[0;34m)\u001b[0m\u001b[0;34m\u001b[0m\u001b[0m\n\u001b[0m",
      "\u001b[0;32m/opt/conda/lib/python3.6/site-packages/sklearn/metrics/classification.py\u001b[0m in \u001b[0;36mclassification_report\u001b[0;34m(y_true, y_pred, labels, target_names, sample_weight, digits)\u001b[0m\n\u001b[1;32m   1419\u001b[0m \u001b[0;34m\u001b[0m\u001b[0m\n\u001b[1;32m   1420\u001b[0m     \u001b[0;32mif\u001b[0m \u001b[0mlabels\u001b[0m \u001b[0;32mis\u001b[0m \u001b[0;32mNone\u001b[0m\u001b[0;34m:\u001b[0m\u001b[0;34m\u001b[0m\u001b[0m\n\u001b[0;32m-> 1421\u001b[0;31m         \u001b[0mlabels\u001b[0m \u001b[0;34m=\u001b[0m \u001b[0munique_labels\u001b[0m\u001b[0;34m(\u001b[0m\u001b[0my_true\u001b[0m\u001b[0;34m,\u001b[0m \u001b[0my_pred\u001b[0m\u001b[0;34m)\u001b[0m\u001b[0;34m\u001b[0m\u001b[0m\n\u001b[0m\u001b[1;32m   1422\u001b[0m     \u001b[0;32melse\u001b[0m\u001b[0;34m:\u001b[0m\u001b[0;34m\u001b[0m\u001b[0m\n\u001b[1;32m   1423\u001b[0m         \u001b[0mlabels\u001b[0m \u001b[0;34m=\u001b[0m \u001b[0mnp\u001b[0m\u001b[0;34m.\u001b[0m\u001b[0masarray\u001b[0m\u001b[0;34m(\u001b[0m\u001b[0mlabels\u001b[0m\u001b[0;34m)\u001b[0m\u001b[0;34m\u001b[0m\u001b[0m\n",
      "\u001b[0;32m/opt/conda/lib/python3.6/site-packages/sklearn/utils/multiclass.py\u001b[0m in \u001b[0;36munique_labels\u001b[0;34m(*ys)\u001b[0m\n\u001b[1;32m     95\u001b[0m     \u001b[0m_unique_labels\u001b[0m \u001b[0;34m=\u001b[0m \u001b[0m_FN_UNIQUE_LABELS\u001b[0m\u001b[0;34m.\u001b[0m\u001b[0mget\u001b[0m\u001b[0;34m(\u001b[0m\u001b[0mlabel_type\u001b[0m\u001b[0;34m,\u001b[0m \u001b[0;32mNone\u001b[0m\u001b[0;34m)\u001b[0m\u001b[0;34m\u001b[0m\u001b[0m\n\u001b[1;32m     96\u001b[0m     \u001b[0;32mif\u001b[0m \u001b[0;32mnot\u001b[0m \u001b[0m_unique_labels\u001b[0m\u001b[0;34m:\u001b[0m\u001b[0;34m\u001b[0m\u001b[0m\n\u001b[0;32m---> 97\u001b[0;31m         \u001b[0;32mraise\u001b[0m \u001b[0mValueError\u001b[0m\u001b[0;34m(\u001b[0m\u001b[0;34m\"Unknown label type: %s\"\u001b[0m \u001b[0;34m%\u001b[0m \u001b[0mrepr\u001b[0m\u001b[0;34m(\u001b[0m\u001b[0mys\u001b[0m\u001b[0;34m)\u001b[0m\u001b[0;34m)\u001b[0m\u001b[0;34m\u001b[0m\u001b[0m\n\u001b[0m\u001b[1;32m     98\u001b[0m \u001b[0;34m\u001b[0m\u001b[0m\n\u001b[1;32m     99\u001b[0m     \u001b[0mys_labels\u001b[0m \u001b[0;34m=\u001b[0m \u001b[0mset\u001b[0m\u001b[0;34m(\u001b[0m\u001b[0mchain\u001b[0m\u001b[0;34m.\u001b[0m\u001b[0mfrom_iterable\u001b[0m\u001b[0;34m(\u001b[0m\u001b[0m_unique_labels\u001b[0m\u001b[0;34m(\u001b[0m\u001b[0my\u001b[0m\u001b[0;34m)\u001b[0m \u001b[0;32mfor\u001b[0m \u001b[0my\u001b[0m \u001b[0;32min\u001b[0m \u001b[0mys\u001b[0m\u001b[0;34m)\u001b[0m\u001b[0;34m)\u001b[0m\u001b[0;34m\u001b[0m\u001b[0m\n",
      "\u001b[0;31mValueError\u001b[0m: Unknown label type: (       related  request  offer  aid_related  medical_help  medical_products  \\\n9171         0        0      0            0             0                 0   \n16502        1        0      0            0             0                 0   \n11449        0        0      0            0             0                 0   \n12507        1        0      0            0             0                 0   \n24823        1        0      0            1             0                 0   \n7526         1        0      0            1             0                 0   \n20625        1        0      0            1             0                 0   \n5981         1        0      0            0             0                 0   \n24883        1        0      0            1             1                 1   \n4431         1        0      0            0             0                 0   \n9663         0        0      0            0             0                 0   \n11538        1        0      0            1             0                 0   \n23086        1        0      0            1             0                 0   \n7806         0        0      0            0             0                 0   \n16670        1        0      0            1             0                 0   \n2589         1        1      0            1             0                 0   \n9317         0        0      0            0             0                 0   \n9565         0        0      0            0             0                 0   \n12786        1        0      0            0             0                 0   \n2369         1        1      0            1             0                 0   \n10133        1        0      0            0             0                 0   \n5461         1        1      0            0             0                 0   \n16817        1        0      0            0             0                 0   \n7451         1        0      0            0             0                 0   \n18632        1        0      0            0             0                 0   \n13239        1        0      0            1             0                 0   \n1419         1        1      0            1             0                 0   \n12327        1        0      0            0             0                 0   \n16767        1        0      0            0             0                 0   \n15860        2        0      0            0             0                 0   \n...        ...      ...    ...          ...           ...               ...   \n24065        1        0      0            1             0                 1   \n25464        1        0      0            0             0                 0   \n22544        0        0      0            0             0                 0   \n25886        1        0      0            1             1                 0   \n22991        1        0      0            1             1                 0   \n18497        1        0      0            1             1                 0   \n13470        1        0      0            1             0                 0   \n17504        1        0      0            0             0                 0   \n3703         1        0      0            0             0                 0   \n2032         0        0      0            0             0                 0   \n22029        1        0      0            0             0                 0   \n3688         1        0      0            1             0                 0   \n3816         1        0      0            0             0                 0   \n5236         1        0      0            0             0                 0   \n6134         1        1      0            1             1                 1   \n4860         1        1      0            1             0                 0   \n9051         0        0      0            0             0                 0   \n11200        1        0      0            1             0                 0   \n7120         1        0      0            0             0                 0   \n13490        1        0      0            1             0                 0   \n25026        1        0      0            0             0                 0   \n19641        1        0      0            1             0                 0   \n20146        0        0      0            0             0                 0   \n1451         0        0      0            0             0                 0   \n2264         0        0      0            0             0                 0   \n10405        1        0      0            0             0                 0   \n12887        1        0      0            0             0                 0   \n8331         1        1      0            1             0                 0   \n9616         1        1      0            1             0                 0   \n3941         1        0      0            1             0                 0   \n\n       search_and_rescue  security  military  child_alone      ...        \\\n9171                   0         0         0            0      ...         \n16502                  0         0         0            0      ...         \n11449                  0         0         0            0      ...         \n12507                  0         0         0            0      ...         \n24823                  0         0         1            0      ...         \n7526                   0         0         0            0      ...         \n20625                  0         0         1            0      ...         \n5981                   0         0         0            0      ...         \n24883                  0         0         0            0      ...         \n4431                   0         0         0            0      ...         \n9663                   0         0         0            0      ...         \n11538                  0         0         0            0      ...         \n23086                  0         0         0            0      ...         \n7806                   0         0         0            0      ...         \n16670                  0         0         0            0      ...         \n2589                   1         0         0            0      ...         \n9317                   0         0         0            0      ...         \n9565                   0         0         0            0      ...         \n12786                  0         0         0            0      ...         \n2369                   0         0         0            0      ...         \n10133                  0         0         0            0      ...         \n5461                   0         0         0            0      ...         \n16817                  0         0         0            0      ...         \n7451                   0         0         0            0      ...         \n18632                  0         0         0            0      ...         \n13239                  1         0         0            0      ...         \n1419                   0         0         0            0      ...         \n12327                  0         0         0            0      ...         \n16767                  0         0         0            0      ...         \n15860                  0         0         0            0      ...         \n...                  ...       ...       ...          ...      ...         \n24065                  0         0         0            0      ...         \n25464                  0         0         0            0      ...         \n22544                  0         0         0            0      ...         \n25886                  0         0         0            0      ...         \n22991                  0         0         0            0      ...         \n18497                  0         0         0            0      ...         \n13470                  0         0         0            0      ...         \n17504                  0         0         0            0      ...         \n3703                   0         0         0            0      ...         \n2032                   0         0         0            0      ...         \n22029                  0         0         0            0      ...         \n3688                   0         0         0            0      ...         \n3816                   0         0         0            0      ...         \n5236                   0         0         0            0      ...         \n6134                   0         0         0            0      ...         \n4860                   0         0         0            0      ...         \n9051                   0         0         0            0      ...         \n11200                  0         0         0            0      ...         \n7120                   0         0         0            0      ...         \n13490                  0         0         0            0      ...         \n25026                  0         0         0            0      ...         \n19641                  0         0         1            0      ...         \n20146                  0         0         0            0      ...         \n1451                   0         0         0            0      ...         \n2264                   0         0         0            0      ...         \n10405                  0         0         0            0      ...         \n12887                  0         0         0            0      ...         \n8331                   0         0         0            0      ...         \n9616                   0         0         0            0      ...         \n3941                   0         1         0            0      ...         \n\n       aid_centers  other_infrastructure  weather_related  floods  storm  \\\n9171             0                     0                0       0      0   \n16502            0                     0                1       0      1   \n11449            0                     0                0       0      0   \n12507            0                     0                0       0      0   \n24823            0                     0                0       0      0   \n7526             0                     0                0       0      0   \n20625            0                     0                0       0      0   \n5981             0                     0                0       0      0   \n24883            0                     1                1       1      1   \n4431             0                     0                0       0      0   \n9663             0                     0                0       0      0   \n11538            0                     0                0       0      0   \n23086            0                     0                0       0      0   \n7806             0                     0                0       0      0   \n16670            0                     0                0       0      0   \n2589             0                     0                1       0      0   \n9317             0                     0                0       0      0   \n9565             0                     0                0       0      0   \n12786            0                     0                1       0      1   \n2369             0                     0                0       0      0   \n10133            0                     0                1       0      0   \n5461             0                     0                0       0      0   \n16817            0                     0                0       0      0   \n7451             0                     0                1       1      0   \n18632            0                     0                0       0      0   \n13239            0                     0                1       0      1   \n1419             0                     0                0       0      0   \n12327            0                     0                0       0      0   \n16767            0                     0                1       0      0   \n15860            0                     0                0       0      0   \n...            ...                   ...              ...     ...    ...   \n24065            0                     0                0       0      0   \n25464            0                     0                1       0      0   \n22544            0                     0                0       0      0   \n25886            0                     0                0       0      0   \n22991            0                     0                1       0      0   \n18497            0                     0                1       0      0   \n13470            0                     0                1       0      1   \n17504            0                     0                0       0      0   \n3703             0                     0                0       0      0   \n2032             0                     0                0       0      0   \n22029            0                     0                0       0      0   \n3688             0                     0                1       0      1   \n3816             0                     0                0       0      0   \n5236             0                     0                0       0      0   \n6134             0                     1                0       0      0   \n4860             0                     0                0       0      0   \n9051             0                     0                0       0      0   \n11200            0                     0                0       0      0   \n7120             0                     0                0       0      0   \n13490            0                     0                1       0      0   \n25026            0                     0                0       0      0   \n19641            0                     0                0       0      0   \n20146            0                     0                0       0      0   \n1451             0                     0                0       0      0   \n2264             0                     0                0       0      0   \n10405            0                     0                1       0      0   \n12887            0                     0                0       0      0   \n8331             0                     0                0       0      0   \n9616             0                     0                0       0      0   \n3941             0                     1                0       0      0   \n\n       fire  earthquake  cold  other_weather  direct_report  \n9171      0           0     0              0              0  \n16502     0           0     0              0              0  \n11449     0           0     0              0              0  \n12507     0           0     0              0              0  \n24823     0           0     0              0              0  \n7526      0           0     0              0              0  \n20625     0           0     0              0              0  \n5981      0           0     0              0              0  \n24883     0           0     0              1              0  \n4431      0           0     0              0              0  \n9663      0           0     0              0              0  \n11538     0           0     0              0              1  \n23086     0           0     0              0              0  \n7806      0           0     0              0              0  \n16670     0           0     0              0              0  \n2589      0           1     0              0              1  \n9317      0           0     0              0              0  \n9565      0           0     0              0              0  \n12786     0           0     0              0              1  \n2369      0           0     0              0              1  \n10133     0           1     0              0              0  \n5461      0           0     0              0              1  \n16817     0           0     0              0              0  \n7451      0           0     0              1              0  \n18632     0           0     0              0              0  \n13239     0           0     0              0              0  \n1419      0           0     0              0              1  \n12327     0           0     0              0              0  \n16767     0           1     0              0              0  \n15860     0           0     0              0              0  \n...     ...         ...   ...            ...            ...  \n24065     0           0     0              0              0  \n25464     0           0     0              1              0  \n22544     0           0     0              0              0  \n25886     0           0     0              0              0  \n22991     0           0     0              1              0  \n18497     0           1     0              0              0  \n13470     0           0     0              0              1  \n17504     0           0     0              0              0  \n3703      0           0     0              0              0  \n2032      0           0     0              0              0  \n22029     0           0     0              0              0  \n3688      0           1     0              0              0  \n3816      0           0     0              0              0  \n5236      0           0     0              0              0  \n6134      0           0     0              0              1  \n4860      0           0     0              0              1  \n9051      0           0     0              0              0  \n11200     0           0     0              0              1  \n7120      0           0     0              0              0  \n13490     0           1     0              0              0  \n25026     0           0     0              0              0  \n19641     0           0     0              0              0  \n20146     0           0     0              0              0  \n1451      0           0     0              0              0  \n2264      0           0     0              0              0  \n10405     0           1     0              0              0  \n12887     0           0     0              0              0  \n8331      0           0     0              0              1  \n9616      0           0     0              0              1  \n3941      0           0     0              0              0  \n\n[6554 rows x 36 columns], array([[0, 0, 0, ..., 0, 0, 0],\n       [1, 0, 0, ..., 0, 0, 0],\n       [1, 0, 0, ..., 0, 0, 0],\n       ..., \n       [1, 0, 0, ..., 0, 0, 0],\n       [0, 0, 0, ..., 0, 0, 0],\n       [1, 0, 0, ..., 0, 0, 1]]))"
     ]
    }
   ],
   "source": [
    "print(classification_report(y_test,y_pred))"
   ]
  },
  {
   "cell_type": "markdown",
   "metadata": {},
   "source": [
    "### 6. Improve your model\n",
    "Use grid search to find better parameters. "
   ]
  },
  {
   "cell_type": "code",
   "execution_count": 17,
   "metadata": {},
   "outputs": [],
   "source": [
    "parameters = {\n",
    "    'vect__min_df': [1, 5],\n",
    "    'tfidf__use_idf':[True, False],\n",
    "    'clf__estimator__n_estimators':[10, 25], \n",
    "    'clf__estimator__min_samples_split':[2, 5, 10]\n",
    "}\n",
    "\n",
    "cv = SVC()"
   ]
  },
  {
   "cell_type": "markdown",
   "metadata": {},
   "source": [
    "### 7. Test your model\n",
    "Show the accuracy, precision, and recall of the tuned model.  \n",
    "\n",
    "Since this project focuses on code quality, process, and  pipelines, there is no minimum performance metric needed to pass. However, make sure to fine tune your models for accuracy, precision and recall to make your project stand out - especially for your portfolio!"
   ]
  },
  {
   "cell_type": "code",
   "execution_count": null,
   "metadata": {},
   "outputs": [],
   "source": []
  },
  {
   "cell_type": "markdown",
   "metadata": {},
   "source": [
    "### 8. Try improving your model further. Here are a few ideas:\n",
    "* try other machine learning algorithms\n",
    "* add other features besides the TF-IDF"
   ]
  },
  {
   "cell_type": "code",
   "execution_count": null,
   "metadata": {},
   "outputs": [],
   "source": []
  },
  {
   "cell_type": "markdown",
   "metadata": {},
   "source": [
    "### 9. Export your model as a pickle file"
   ]
  },
  {
   "cell_type": "code",
   "execution_count": null,
   "metadata": {},
   "outputs": [],
   "source": []
  },
  {
   "cell_type": "markdown",
   "metadata": {},
   "source": [
    "### 10. Use this notebook to complete `train.py`\n",
    "Use the template file attached in the Resources folder to write a script that runs the steps above to create a database and export a model based on a new dataset specified by the user."
   ]
  },
  {
   "cell_type": "code",
   "execution_count": null,
   "metadata": {},
   "outputs": [],
   "source": []
  }
 ],
 "metadata": {
  "kernelspec": {
   "display_name": "Python 3",
   "language": "python",
   "name": "python3"
  },
  "language_info": {
   "codemirror_mode": {
    "name": "ipython",
    "version": 3
   },
   "file_extension": ".py",
   "mimetype": "text/x-python",
   "name": "python",
   "nbconvert_exporter": "python",
   "pygments_lexer": "ipython3",
   "version": "3.6.3"
  }
 },
 "nbformat": 4,
 "nbformat_minor": 2
}
